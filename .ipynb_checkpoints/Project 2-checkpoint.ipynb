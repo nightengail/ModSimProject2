{
 "cells": [
  {
   "cell_type": "markdown",
   "metadata": {},
   "source": [
    "# Hydration Model\n",
    "\n",
    "By Gail Romer and Maia Materman\n"
   ]
  },
  {
   "cell_type": "markdown",
   "metadata": {},
   "source": [
    "## A Bit of Background Information:\n",
    "\n",
    "In this project, we wanted to investigate the way in which water travels through the body. Thankfully, we were able to find a research paper which looked at this phenomenon. From this paper, we were able to draw a stock and flow diagram and ask a few questions as to the way in which water moves between tissue compartments. For reference, the paper is titled Pharmacokinetic Analysis of Absorption, Distribution and Disappearance of Ingested Water Labeled with D2O in Humans."
   ]
  },
  {
   "cell_type": "markdown",
   "metadata": {},
   "source": [
    "A thorough analysis of this paper led us to a few questions, one of which we looked at in depth.\n",
    "## Our Question:\n",
    "\n",
    "### How does a varied input rate into the tissue effect the amount of water in each compartment over time?\n",
    "Answering this question involved sweeping the input rate and plotting the amount of water in each stock over time. Interestingly enough, the way in which the water traveled and stayed in the different tissue compartments did not stay linear as we plotted them at different input rates."
   ]
  },
  {
   "cell_type": "code",
   "execution_count": 1,
   "metadata": {},
   "outputs": [],
   "source": [
    "# Configure Jupyter so figures appear in the notebook\n",
    "%matplotlib inline\n",
    "\n",
    "# Configure Jupyter to display the assigned value after an assignment\n",
    "%config InteractiveShell.ast_node_interactivity='last_expr_or_assign'\n",
    "\n",
    "# import functions from the modsim.py module\n",
    "from modsim import *"
   ]
  },
  {
   "cell_type": "markdown",
   "metadata": {},
   "source": [
    "\n"
   ]
  },
  {
   "cell_type": "code",
   "execution_count": 2,
   "metadata": {},
   "outputs": [
    {
     "data": {
      "text/html": [
       "<div>\n",
       "<style scoped>\n",
       "    .dataframe tbody tr th:only-of-type {\n",
       "        vertical-align: middle;\n",
       "    }\n",
       "\n",
       "    .dataframe tbody tr th {\n",
       "        vertical-align: top;\n",
       "    }\n",
       "\n",
       "    .dataframe thead th {\n",
       "        text-align: right;\n",
       "    }\n",
       "</style>\n",
       "<table border=\"1\" class=\"dataframe\">\n",
       "  <thead>\n",
       "    <tr style=\"text-align: right;\">\n",
       "      <th></th>\n",
       "      <th>values</th>\n",
       "    </tr>\n",
       "  </thead>\n",
       "  <tbody>\n",
       "    <tr>\n",
       "      <th>init</th>\n",
       "      <td>V_1    18.5\n",
       "V_2    31.6\n",
       "dtype: float64</td>\n",
       "    </tr>\n",
       "    <tr>\n",
       "      <th>t0</th>\n",
       "      <td>0</td>\n",
       "    </tr>\n",
       "    <tr>\n",
       "      <th>t_end</th>\n",
       "      <td>180</td>\n",
       "    </tr>\n",
       "    <tr>\n",
       "      <th>ka</th>\n",
       "      <td>0.0715</td>\n",
       "    </tr>\n",
       "    <tr>\n",
       "      <th>k12</th>\n",
       "      <td>0.0384</td>\n",
       "    </tr>\n",
       "    <tr>\n",
       "      <th>k21</th>\n",
       "      <td>0.0223</td>\n",
       "    </tr>\n",
       "    <tr>\n",
       "      <th>kel</th>\n",
       "      <td>0.241</td>\n",
       "    </tr>\n",
       "    <tr>\n",
       "      <th>dt</th>\n",
       "      <td>1</td>\n",
       "    </tr>\n",
       "  </tbody>\n",
       "</table>\n",
       "</div>"
      ],
      "text/plain": [
       "init     V_1    18.5\n",
       "V_2    31.6\n",
       "dtype: float64\n",
       "t0                                            0\n",
       "t_end                                       180\n",
       "ka                                       0.0715\n",
       "k12                                      0.0384\n",
       "k21                                      0.0223\n",
       "kel                                       0.241\n",
       "dt                                            1\n",
       "dtype: object"
      ]
     },
     "execution_count": 2,
     "metadata": {},
     "output_type": "execute_result"
    }
   ],
   "source": [
    "def make_system(ka, k12, k21, kel):\n",
    "    \"\"\"Make a system object for the water model.\n",
    "    \n",
    "    ka (per minute)\n",
    "    k12 (per minute)\n",
    "    k21 (per minute)\n",
    "    kel (per minute)\n",
    "    \n",
    "    returns: System object\n",
    "    \"\"\"\n",
    "   \n",
    "    \n",
    "    init = State(V_1 = 18.5, V_2 = 31.6)   # V_1 = Compartment 1, V_2 = Compartment 2\n",
    "                                        \n",
    "\n",
    "    t0 = 0 # time has yet to begin\n",
    "    dt = 1 # minutes\n",
    "    t_end = 3 * 60 # 3 hours\n",
    "    \n",
    "\n",
    "    return System(init=init, t0=t0, t_end=t_end,\n",
    "                  ka=ka, k12=k12, k21=k21, kel=kel, dt=dt)\n",
    "\n",
    "\n",
    "make_system(\n",
    "            0.0715,       #ka per minute\n",
    "            0.0384,       #k12 per minute\n",
    "            0.0223,       #k21 per minute\n",
    "            0.241         #kel per minute\n",
    ")"
   ]
  },
  {
   "cell_type": "code",
   "execution_count": 3,
   "metadata": {},
   "outputs": [],
   "source": [
    "def plot_results(V_1, V_2):\n",
    "    \"\"\"Plot the results of water model.\n",
    "    \n",
    "    V_1: TimeSeries\n",
    "    V_2: TimeSeries\n",
    "    \n",
    "    \"\"\"\n",
    "    \n",
    "    "
   ]
  },
  {
   "cell_type": "code",
   "execution_count": 4,
   "metadata": {},
   "outputs": [],
   "source": [
    "def run_simulation(system, update_func, KA):\n",
    "    \"\"\"Runs a simulation of the system.\n",
    "        \n",
    "    system: System object\n",
    "    update_func: function that updates state\n",
    "    \n",
    "    returns: TimeFrame\n",
    "    \"\"\"\n",
    "    unpack(system)\n",
    "    \n",
    "    frame = TimeFrame(columns=init.index)\n",
    "    frame.row[t0] = init\n",
    "\n",
    "    \n",
    "    for t in linrange(t0, t_end, dt):\n",
    "        frame.row[t+dt] = update_func(frame.row[t], dt, system, KA)\n",
    "\n",
    "    return frame"
   ]
  },
  {
   "cell_type": "code",
   "execution_count": 5,
   "metadata": {},
   "outputs": [],
   "source": [
    "# # Original\n",
    "\n",
    "def update_func(state, dt, system,KA):\n",
    "    \"\"\"Update the water model.\n",
    "    \n",
    "    state: State (V_1, V_2)\n",
    "    t: time\n",
    "    system: System object\n",
    "    \n",
    "    returns: State (V_1, V_2)\n",
    "    \"\"\"\n",
    "    \n",
    "    unpack(system)\n",
    "    v_1, v_2 = state\n",
    "    \n",
    "    \n",
    "    \n",
    "    kel_1 = (v_1/(v_1+v_2)) * kel\n",
    "    kel_2 = (v_2/(v_1+v_2)) * kel\n",
    "    \n",
    "    dv1dt = KA + k21 - k12 - kel_1\n",
    "    dv2dt = k12 - k21 - kel_2\n",
    "    \n",
    "    v_1 += dv1dt * dt\n",
    "    v_2 += dv2dt * dt\n",
    "    \n",
    "    return State(V_1 = v_1, V_2 = v_2)"
   ]
  },
  {
   "cell_type": "markdown",
   "metadata": {},
   "source": [
    "The code below is where we actually sweep the values of ka, this is essentially the input rate of the water into the tissue compartment. As ka varies, the rate at which the water flows into the system varies by the same amount which allows us to draw conclusions about their relationship. "
   ]
  },
  {
   "cell_type": "code",
   "execution_count": 6,
   "metadata": {},
   "outputs": [],
   "source": [
    "system = make_system(0.0715,       #ka per minute\n",
    "            0.0384,        #k12 per minute\n",
    "            0.0223,     #k21 per minute\n",
    "            0.241         #kel per minute\n",
    "           )\n",
    "            \n",
    "ka_1=0.02\n",
    "ka_2=0.12\n",
    "\n",
    "sweep_ka = SweepSeries() # Array to hold swept ka model data\n",
    "ka_array = linspace(ka_1, ka_2, 10)\n",
    "\n",
    "# KA=0.0715\n",
    "\n",
    "# results = run_simulation(system, update_func, KA)\n",
    "i=0\n",
    "for KA in ka_array:\n",
    "    i += 1\n",
    "    \n",
    "    results = run_simulation(system, update_func, KA)\n",
    "    sweep_ka[i] = results"
   ]
  },
  {
   "cell_type": "code",
   "execution_count": 9,
   "metadata": {},
   "outputs": [
    {
     "data": {
      "image/png": "[encoded data removed]",
      "text/plain": [
       "<Figure size 432x288 with 1 Axes>"
      ]
     },
     "metadata": {},
     "output_type": "display_data"
    }
   ],
   "source": [
    "def plot_sweepseries(sweepseries):\n",
    "    c = 1\n",
    "    \n",
    "    while c < 11 :\n",
    "        v1 = sweepseries[c].V_1\n",
    "        v2 = sweepseries[c].V_2\n",
    "        \n",
    "        v1.plot(color=\"green\")\n",
    "        v2.plot(color=\"blue\")\n",
    "        \n",
    "        \n",
    "        c += 1\n",
    "        \n",
    "    return\n",
    "plot_sweepseries(sweep_ka)\n",
    "\n",
    "\n"
   ]
  },
  {
   "cell_type": "markdown",
   "metadata": {},
   "source": [
    "In this plot, the x axis represents time and is in units of minutes. The y axis reprsents the amount of water and is in units of liters. When creating this graph with the given ka values, one major assumtion which we made was that a given kel (the output from each of the chambers) would stay proportional to the amount of water in that chamber. It is unclear as to whether or not this is a valid assumption, this field is still very much being researched currently. We assume that it is a sound assumption becuase it makes sense qualitatively with the way in which humans interact with water. The more water which we have, the less dehydrated we can stay for a longer period of time. Essentially both of these series looked at the inputs and outputs on each compartment and plotted the amount of water in each at any given time. This is what makes the latter V2 (green) series so interesting. While the blue series (V1) stays relatively linear, the more water that the green series gets, the more that does not empty water as quickly or effectively. "
   ]
  },
  {
   "cell_type": "code",
   "execution_count": null,
   "metadata": {
    "scrolled": true
   },
   "outputs": [],
   "source": [
    "results.plot()"
   ]
  },
  {
   "cell_type": "markdown",
   "metadata": {},
   "source": [
    "## Answer!!\n",
    "Upon analyzing these graphs, we have come to realize that varying the input rates of the water into the tissue has an intriguing effect on that tissue over time. For the smaller compartment, the rate at which the water entered the tissue stayed fairly constant in its relationship to the amount of water in the compartment at any given time (as seen by the linear ways in which the graph of V1 behaves). The larger compartment, however, actually was unable to empty itself of water at even close to the same rate which it took water in, which meant that the water in the V2 compartment took more and more water over time. This phenomenon is what leads the green graph to start more linearly at the lower ka rates and actually flatten out as ka increases. An interesting experiment to take on (and one we may have embarked on with more time) is to have swept ka of V1 over a larger value range and deduced the ka value for when the blue graph flattened out which would depict where the V1 compartment could not empty water at a similar rate to how it took water in. "
   ]
  },
  {
   "cell_type": "markdown",
   "metadata": {},
   "source": [
    "### Where we could have improved\n",
    "There were definitely a few places in this model that we could have improved. The biggest area which we could look into more deeply (and potentially sweep across) would be the way in which kel impacts the graphs. An interesting thing about the paper is that it did not explicitly state the way in which kel behaved for the individual compartments. Instead, it gave kel as a quantity that was the sum of kel1 and kel2. From this, we assumed these kel values to be proportional to the amount in each compartment. If we wanted to take this further, we could have swept the kel values for each compartment and attempted to match real world data which we found in a report we looked at initially and didn't end up using. That would have been a very very interesting project, to say the least! \n",
    "\n",
    "In addition, we used an iterative modeling process throughout the whole project. We started by looking at the HIV pharmacokinetics model and creating a basic model from that. We ended up iterating on that model to sweep a variety of factors (like the initial values of the compartments) before deciding that ka would tell us the most interesting things about this process in the read world. We ended up iterating with the range of ka values, settling on this number because it told a good amount about what we needed without making our graph too complicated and difficult to understand. "
   ]
  },
  {
   "cell_type": "markdown",
   "metadata": {},
   "source": [
    "## Abstract\n",
    "\n",
    "The question we tried to answer in this project was: How does a varied input rate into the tissue effect the amount of water in each compartment over time? By iterating through a variety of models and parameters, we were able to find that after a certain amount of water input, the compartments cannot keep up with the output rate and the compartments actually end up taking on water. This was especially evident when we considered V2. \n",
    "\n",
    "The plot below depicts our conclusions very well. On the x axis, time is plotted in minutes, and on the y axis, the amount of water in a given compartment is plotted in liters."
   ]
  },
  {
   "cell_type": "code",
   "execution_count": null,
   "metadata": {},
   "outputs": [],
   "source": [
    "plot_sweepseries(sweep_ka)"
   ]
  },
  {
   "cell_type": "markdown",
   "metadata": {},
   "source": [
    "As the graphs flatten out (particularily looking at V2), we can see that the output of the graph sometimes does not have as high of a rate as the input. Our model effectively depicts the way in which the water is transfered in the compartments, but we assumed the output of each compartment was proportional to the amount of water in that given compartment, which could lead our model to be inaccurate.   "
   ]
  },
  {
   "cell_type": "code",
   "execution_count": null,
   "metadata": {},
   "outputs": [],
   "source": []
  }
 ],
 "metadata": {
  "kernelspec": {
   "display_name": "Python 3",
   "language": "python",
   "name": "python3"
  },
  "language_info": {
   "codemirror_mode": {
    "name": "ipython",
    "version": 3
   },
   "file_extension": ".py",
   "mimetype": "text/x-python",
   "name": "python",
   "nbconvert_exporter": "python",
   "pygments_lexer": "ipython3",
   "version": "3.6.6"
  }
 },
 "nbformat": 4,
 "nbformat_minor": 2
}

{
 "cells": [
  {
   "cell_type": "markdown",
   "metadata": {},
   "source": [
    "# Hydration Model\n",
    "\n",
    "By Gail Romer and Maia Materman\n"
   ]
  },
  {
   "cell_type": "code",
   "execution_count": 1,
   "metadata": {},
   "outputs": [],
   "source": [
    "# Configure Jupyter so figures appear in the notebook\n",
    "%matplotlib inline\n",
    "\n",
    "# Configure Jupyter to display the assigned value after an assignment\n",
    "%config InteractiveShell.ast_node_interactivity='last_expr_or_assign'\n",
    "\n",
    "# import functions from the modsim.py module\n",
    "from modsim import *"
   ]
  },
  {
   "cell_type": "markdown",
   "metadata": {},
   "source": [
    "### Code from previous chapters"
   ]
  },
  {
   "cell_type": "markdown",
   "metadata": {},
   "source": [
    "`make_system`, `plot_results`, and `calc_total_infected` are unchanged."
   ]
  },
  {
   "cell_type": "code",
   "execution_count": 2,
   "metadata": {},
   "outputs": [
    {
     "ename": "TypeError",
     "evalue": "__init__() takes at most one positional argument",
     "output_type": "error",
     "traceback": [
      "\u001b[1;31m---------------------------------------------------------------------------\u001b[0m",
      "\u001b[1;31mTypeError\u001b[0m                                 Traceback (most recent call last)",
      "\u001b[1;32m<ipython-input-2-52d410c9ab53>\u001b[0m in \u001b[0;36m<module>\u001b[1;34m()\u001b[0m\n\u001b[0;32m     28\u001b[0m             \u001b[1;36m0.241\u001b[0m\u001b[1;33m,\u001b[0m         \u001b[1;31m#kel per minute\u001b[0m\u001b[1;33m\u001b[0m\u001b[0m\n\u001b[0;32m     29\u001b[0m             \u001b[1;36m18.5\u001b[0m\u001b[1;33m,\u001b[0m         \u001b[1;31m#v_1\u001b[0m\u001b[1;33m\u001b[0m\u001b[0m\n\u001b[1;32m---> 30\u001b[1;33m             31.6)\n\u001b[0m",
      "\u001b[1;32m<ipython-input-2-52d410c9ab53>\u001b[0m in \u001b[0;36mmake_system\u001b[1;34m(ka, k12, k21, kel, V_1, V_2)\u001b[0m\n\u001b[0;32m     11\u001b[0m \u001b[1;33m\u001b[0m\u001b[0m\n\u001b[0;32m     12\u001b[0m \u001b[1;33m\u001b[0m\u001b[0m\n\u001b[1;32m---> 13\u001b[1;33m     \u001b[0minit\u001b[0m \u001b[1;33m=\u001b[0m \u001b[0mState\u001b[0m\u001b[1;33m(\u001b[0m\u001b[0mV_1\u001b[0m\u001b[1;33m,\u001b[0m \u001b[0mV_2\u001b[0m\u001b[1;33m)\u001b[0m   \u001b[1;31m# V_1 = Compartment 1, V_2 = Compartment 2\u001b[0m\u001b[1;33m\u001b[0m\u001b[0m\n\u001b[0m\u001b[0;32m     14\u001b[0m \u001b[1;33m\u001b[0m\u001b[0m\n\u001b[0;32m     15\u001b[0m \u001b[1;33m\u001b[0m\u001b[0m\n",
      "\u001b[1;32m~\\Documents\\GitHub\\ModSimProject2\\modsim.py\u001b[0m in \u001b[0;36m__init__\u001b[1;34m(self, *args, **kwargs)\u001b[0m\n\u001b[0;32m   1008\u001b[0m         \u001b[1;32melse\u001b[0m\u001b[1;33m:\u001b[0m\u001b[1;33m\u001b[0m\u001b[0m\n\u001b[0;32m   1009\u001b[0m             \u001b[0mmsg\u001b[0m \u001b[1;33m=\u001b[0m \u001b[1;34m'__init__() takes at most one positional argument'\u001b[0m\u001b[1;33m\u001b[0m\u001b[0m\n\u001b[1;32m-> 1010\u001b[1;33m             \u001b[1;32mraise\u001b[0m \u001b[0mTypeError\u001b[0m\u001b[1;33m(\u001b[0m\u001b[0mmsg\u001b[0m\u001b[1;33m)\u001b[0m\u001b[1;33m\u001b[0m\u001b[0m\n\u001b[0m\u001b[0;32m   1011\u001b[0m \u001b[1;33m\u001b[0m\u001b[0m\n\u001b[0;32m   1012\u001b[0m \u001b[1;33m\u001b[0m\u001b[0m\n",
      "\u001b[1;31mTypeError\u001b[0m: __init__() takes at most one positional argument"
     ]
    }
   ],
   "source": [
    "def make_system(ka, k12, k21, kel, V_1, V_2):\n",
    "    \"\"\"Make a system object for the water model.\n",
    "    \n",
    "    ka (per minute)\n",
    "    k12 (per minute)\n",
    "    k21 (per minute)\n",
    "    kel (per minute)\n",
    "    \n",
    "    returns: System object\n",
    "    \"\"\"\n",
    "    v1 = V_1\n",
    "    v2 = V_2\n",
    "    \n",
    "    init = State(v1, v2)   # V_1 = Compartment 1, V_2 = Compartment 2\n",
    "                                        \n",
    "\n",
    "    t0 = 0 # time has yet to begin\n",
    "    dt = 1 # minutes\n",
    "    t_end = 3 * 60 # 3 hours\n",
    "    \n",
    "\n",
    "    return System(init=init, t0=t0, t_end=t_end,\n",
    "                  ka=ka, k12=k12, k21=k21, kel=kel, dt=dt, V_1 = V_1, V_2 = V_2)\n",
    "\n",
    "\n",
    "make_system(0.0715,       #ka per minute\n",
    "            0.0384,       #k12 per minute\n",
    "            0.0223,       #k21 per minute\n",
    "            0.241,         #kel per minute\n",
    "            18.5,         #v_1\n",
    "            31.6)"
   ]
  },
  {
   "cell_type": "code",
   "execution_count": null,
   "metadata": {},
   "outputs": [],
   "source": [
    "def sweep_V1(state, dt, system, V_2):\n",
    "    \"\"\"Sweep a range of values for beta.\n",
    "    \n",
    "    beta_array: array of beta values\n",
    "    gamma: recovery rate\n",
    "    \n",
    "    returns: SweepSeries that maps from beta to total infected\n",
    "    \"\"\"\n",
    "    \n",
    "    unpack(system)\n",
    "    \n",
    "    sweepV1 = SweepSeries()\n",
    "    for V_1 in frame.row[t_end]:\n",
    "        system = make_system(ka, k12, k21, kel, V_1, V_2)\n",
    "        results = run_simulation(system, update_func)\n",
    "    return sweepV1"
   ]
  },
  {
   "cell_type": "code",
   "execution_count": null,
   "metadata": {},
   "outputs": [],
   "source": [
    "def plot_results(V_1, V_2):\n",
    "    \"\"\"Plot the results of water model.\n",
    "    \n",
    "    V_1: TimeSeries\n",
    "    V_2: TimeSeries\n",
    "    \n",
    "    \"\"\"\n",
    "    \n",
    "    "
   ]
  },
  {
   "cell_type": "code",
   "execution_count": null,
   "metadata": {},
   "outputs": [],
   "source": [
    "def run_simulation(system, update_func):\n",
    "    \"\"\"Runs a simulation of the system.\n",
    "        \n",
    "    system: System object\n",
    "    update_func: function that updates state\n",
    "    \n",
    "    returns: TimeFrame\n",
    "    \"\"\"\n",
    "    unpack(system)\n",
    "    \n",
    "    frame = TimeFrame(columns=init.index)\n",
    "    frame.row[t0] = init\n",
    "    \n",
    "#     i = t0\n",
    "    \n",
    "    for t in linrange(t0, t_end, dt):\n",
    "        frame.row[t+dt] = update_func(frame.row[t], dt, system)\n",
    "#         i = i + 1\n",
    "        \n",
    "    return frame"
   ]
  },
  {
   "cell_type": "code",
   "execution_count": null,
   "metadata": {},
   "outputs": [],
   "source": [
    "# Original\n",
    "\n",
    "def update_func(state, dt, system):\n",
    "    \"\"\"Update the water model.\n",
    "    \n",
    "    state: State (V_1, V_2)\n",
    "    t: time\n",
    "    system: System object\n",
    "    \n",
    "    returns: State (V_1, V_2)\n",
    "    \"\"\"\n",
    "    \n",
    "    unpack(system)\n",
    "    v_1, v_2 = state\n",
    "    \n",
    "    kel_1 = (v_1/(v_1+v_2)) * kel\n",
    "    kel_2 = (v_2/(v_1+v_2)) * kel\n",
    "    \n",
    "    dv1dt = ka + k21 - k12 - kel_1\n",
    "    dv2dt = k12 - k21 - kel_2\n",
    "    \n",
    "    v_1 += dv1dt * dt\n",
    "    v_2 += dv2dt * dt\n",
    "    \n",
    "    return State(V_1 = v_1, V_2 = v_2)"
   ]
  },
  {
   "cell_type": "code",
   "execution_count": null,
   "metadata": {},
   "outputs": [],
   "source": [
    "system = make_system(0.0715,       #ka per minute\n",
    "            0.0384,        #k12 per minute\n",
    "            0.0223,     #k21 per minute\n",
    "            0.241         #kel per minute\n",
    "           )\n",
    "            \n",
    "results =run_simulation(system, update_func)"
   ]
  },
  {
   "cell_type": "code",
   "execution_count": null,
   "metadata": {
    "scrolled": true
   },
   "outputs": [],
   "source": [
    "results.plot()"
   ]
  },
  {
   "cell_type": "code",
   "execution_count": null,
   "metadata": {},
   "outputs": [],
   "source": [
    "plot(results.V_1)"
   ]
  },
  {
   "cell_type": "code",
   "execution_count": null,
   "metadata": {
    "scrolled": true
   },
   "outputs": [],
   "source": [
    "plot(results.V_2)"
   ]
  },
  {
   "cell_type": "code",
   "execution_count": null,
   "metadata": {},
   "outputs": [],
   "source": []
  }
 ],
 "metadata": {
  "kernelspec": {
   "display_name": "Python 3",
   "language": "python",
   "name": "python3"
  },
  "language_info": {
   "codemirror_mode": {
    "name": "ipython",
    "version": 3
   },
   "file_extension": ".py",
   "mimetype": "text/x-python",
   "name": "python",
   "nbconvert_exporter": "python",
   "pygments_lexer": "ipython3",
   "version": "3.6.6"
  }
 },
 "nbformat": 4,
 "nbformat_minor": 2
}
